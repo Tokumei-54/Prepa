{
 "cells": [
  {
   "cell_type": "markdown",
   "metadata": {},
   "source": [
    "### Tri par Sélection\n",
    "#### Principe :\n",
    "On cherche le plus petit élément se t et on l'échange avec le premier puis on recomence avec t[1:] et ansi de suite\n",
    "\n",
    "#### Python :\n",
    "\n"
   ]
  },
  {
   "cell_type": "code",
   "execution_count": 36,
   "metadata": {},
   "outputs": [],
   "source": [
    "def minimum(t,j=0):\n",
    "    min = j\n",
    "    for k in range(j+1,len(t)):\n",
    "        if t[k]<t[min]: #le tri est stable\n",
    "            min = k\n",
    "    return min\n",
    "\n",
    "def tri_selection(t):\n",
    "    for j in range(len(t)-1):\n",
    "        i = minimum(t,j) #le tri est en place\n",
    "        if i!=j :\n",
    "            t[i],t[j] = t[j], t[i]\n"
   ]
  },
  {
   "cell_type": "markdown",
   "metadata": {},
   "source": [
    "#### Exemple :\n",
    "Si t = [8,6,1,4,2]\n",
    "Alors les étapes successives donnent : \n",
    "[1,6,8,4,2]\n",
    "[1,2,8,4,6]\n",
    "[1,2,4,8,6]\n",
    "[1,2,4,6,8]"
   ]
  },
  {
   "cell_type": "code",
   "execution_count": 37,
   "metadata": {},
   "outputs": [
    {
     "name": "stdout",
     "output_type": "stream",
     "text": [
      "[0, 0, 1, 4, 5, 6, 7, 7, 9, 9]\n"
     ]
    }
   ],
   "source": [
    "from random import randint\n",
    "\n",
    "t = [randint(0,10**1) for _ in range(10**1)] #[8,6,1,4,2]\n",
    "tri_selection(t)\n",
    "print(t)"
   ]
  },
  {
   "cell_type": "markdown",
   "metadata": {},
   "source": [
    "#### Terminaison :\n",
    "R.A.S. Il ny a que des boucles for dont la taille n''est pas modifié\n",
    "\n",
    "#### Complexité :\n",
    "On compte les comparaison de 2 termes de t et les échanges de 2 termes de t   \n",
    "La comlexité de minimum(t,j) est len(t)-j-1  \n",
    "La complexité de tri_selection(t) (n = len(t)) est  :  \n",
    "$\\sum\\limits_{j=0}^{n−2}n−j−1+1=\\sum\\limits_{j=0}^{n−2}n−j=n(n−1)−\\frac{(n−2)(n−1)}{2}=\\frac{(n−1)(2n−(n−2))}{2}=\\frac{(n−1)(n+2)}{2}$  \n",
    "Tri quadratique   \n",
    "Complexité spaciale : constante\n",
    "\n",
    "#### Correction :\n",
    "Admettons que minimum(t,j) revoie min(t[j:])  \n",
    "n = len(t)  \n",
    "Soit $j\\in[0;n−2]$,   \n",
    "On pose $P(j)$ :\"à la fin de l′étape d′indice j de la boucle for , t[:j+1] est triée et t[:j+1] contient des termes $\\leq$ à ceux de t[j+1:]\n",
    "##### Initialisation :\n",
    "j=0 : à la fin de l'étape j=0 minimum(t) est à la place de t[0] donc $P(0)$ vraie\n",
    "##### Conservation :\n",
    "Soit $j\\in[0;n−2]$,  supponsons $P(j)$ :à la fin de l^′ étape d^′ indice j t[:j+1]est triée et \"t[:j+1]≤ t[j+1]\"  \n",
    "À la fin de l'étape suivante , le minimum de t[j+1:] aura été mis en t[j+1] et était ≥ à toutes les valeurs de t [:j+1]  \n",
    "Donc t[:j+2] est trié  \n",
    "Or $\\forall x\\in t[:j+1]$ donc inférieur ou égal aux valeurs de t[j+2:]\n",
    "##### Conclusion :\n",
    "À la fin de la boucle : t[:n-1] est trié et t[n-1] ≥ t[k] $\\forall \\in[O,n−1]$  \n",
    "Donc t[:n] = t est triée\n"
   ]
  }
 ],
 "metadata": {
  "kernelspec": {
   "display_name": "Python 3",
   "language": "python",
   "name": "python3"
  },
  "language_info": {
   "codemirror_mode": {
    "name": "ipython",
    "version": 3
   },
   "file_extension": ".py",
   "mimetype": "text/x-python",
   "name": "python",
   "nbconvert_exporter": "python",
   "pygments_lexer": "ipython3",
   "version": "3.10.11"
  }
 },
 "nbformat": 4,
 "nbformat_minor": 2
}
