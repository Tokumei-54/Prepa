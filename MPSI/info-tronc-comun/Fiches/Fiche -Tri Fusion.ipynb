{
 "cells": [
  {
   "cell_type": "markdown",
   "metadata": {},
   "source": [
    "#### Tri Fusion\n",
    "\n",
    "##### Présentation :  \n",
    "On sépare la liste en 2 parties que l'on trie récursivement, puis on fusionne les listes triées.\n",
    "\n",
    "##### Exemple :\n",
    "                    38/27/43/3/9/82/10  \n",
    "        38/27/43/3                      9/82/10  \n",
    "    38/27         43/3              9/82        10  \n",
    "38        27    43     3          9      82     10\n",
    "    27/39         3/43              9/82        10    \n",
    "        3/27/38/43                      9/10/82    \n",
    "                    3/9/10/27/38/43/82\n",
    "\n",
    "#### Python :                    "
   ]
  },
  {
   "cell_type": "code",
   "execution_count": 1,
   "metadata": {},
   "outputs": [],
   "source": [
    "def fusion(t1,t2):\n",
    "    i,j,t = 0,0,[]\n",
    "    while i< len(t1) and j<len(t2):\n",
    "        if t1[i]<=t2[j]:\n",
    "            t.append(t1[i])\n",
    "            i+=1\n",
    "    t = t + t1[i:]+t2[j:]\n",
    "    return t\n"
   ]
  },
  {
   "cell_type": "code",
   "execution_count": 2,
   "metadata": {},
   "outputs": [],
   "source": [
    "def fusion(t1,t2):\n",
    "    t = t1[:] + t2[::-1]\n",
    "    i,j = 0,len(t-1)\n",
    "    t3 = []\n",
    "    for _ in range(len(t)):\n",
    "        if t[i]<=t[j]:\n",
    "            t3.append(t[i])\n",
    "            i +=1\n",
    "        else :\n",
    "            t3.append(t[j])\n",
    "            j -=1\n",
    "    return t3"
   ]
  },
  {
   "cell_type": "code",
   "execution_count": 3,
   "metadata": {},
   "outputs": [],
   "source": [
    "def tri_fusion(t):\n",
    "    if len (t)<= 1:\n",
    "        return t\n",
    "    m = len(t)//2\n",
    "    t1 = tri_fusion(t[:m])\n",
    "    t2 = tri_fusion(t[m:])\n",
    "    return fusion(t1,t2)"
   ]
  },
  {
   "cell_type": "code",
   "execution_count": 4,
   "metadata": {},
   "outputs": [],
   "source": [
    "def tri_fusion(t):\n",
    "    n = len(t)\n",
    "    if n>1 :\n",
    "        i,j,m = 0,n-1,n//2\n",
    "        z = tri_fusion(t[:m]) + tri_fusion(t[m:])[::-1]\n",
    "        for k in range(n):\n",
    "            if z[i]<=z[j]:\n",
    "                t[k]=z[i]\n",
    "                i+=1\n",
    "            else:\n",
    "                t[k]=z[j]\n",
    "                j-=1\n",
    "    return t"
   ]
  },
  {
   "cell_type": "markdown",
   "metadata": {},
   "source": [
    "Le tri est stable \n",
    "#### Terminaison :\n",
    "la taille de t forme un variant de boucle (un variant d'appels : une suite strict decroissante s'enetiersminorées , indexée par les appels successifs)($\\floor{\\frac{x}{2}} \\leq \\frac{x}{2} < x si x > 0$)\n",
    "\n",
    "#### Correction :\n",
    "##### Fusion\n",
    "invariant de boucle : \"à l'étape k de la boucle xhile, t est trié , contient k valeurs (les i première valeurs de t1 , les j premiers valeurs de t2, avec i + j = k) et t contient des valeurs inferieurs au reste de tableuaux t1 et t2 \"\n",
    "##### Tri Fusion\n",
    "Pour tri fudion : par récurrence forte :   \n",
    "Si len(t) = 1 , RAS\n",
    "Soit $n\\in \\mathbb{N}^*$ suoonson que l'algo fonctione pour une liste de taille $k \\leq n$  \n",
    "Soit t une liste de taille n+1  \n",
    "alors t[: m] , t[m:] sont des liste de taille $\\leq n$ et donc t1 et t2 sont triés et constitués dees 2 moitiés de t par H.R.   \n",
    "Donc Fusion (t1,t2) renvoie bien le tableau trié\n",
    "\n",
    "#### Complexité \n",
    "Suposons $len(t)=2^n$ avec $n\\in \\mathbb{N}^*$   \n",
    "On note C(k) la complexité de tri-fusion pour une liste de taille k (On compte les comparaisons et les \"écritures/insertions\")  \n",
    "$\\forall n \\in \\mathbb{N}, C(2^n) = 2C(2^{n-1}) + 2\\times 2^n $  \n",
    "Donc $\\frac{C(2^n)}{2^n}=\\frac{C(2^{n-1})}{2^{n-1}}+2 $\n",
    "D'où $\\forall n \\in N ,  \\frac{C(2^n)}{2^n} = 2n + \\frac{C(2^0)}{2^0} = 2n$   \n",
    "donc $C(2^n) = 2n \\times 2^n$  \n",
    "Supposons que C est croissante alors $\\forall k \\in \\mathbb{N}^*, \\exists n \\in \\mathbb{N} tq $  \n",
    "$2^n \\leq k < 2^{n+1} (avec n = parti entiere de \\log _2(k) ) $  \n",
    "donc $C(2^n) \\leq C(k) \\leq C(2^{n+1}) $  \n",
    "$k\\left(\\frac{\\ln (k)}{\\ln (2)}-1\\right) \\leq 2^n \\frac{k}{2}\\leq 2^n 2^n \\leq C(k) \\leq 2^{n+1} (2(n+1) \\leq 2k2(n+1))\\leq 4k \\left(\\frac{\\ln (k)}{\\ln (2)}+1\\right) $   \n",
    "donc $C(k) = \\Theta(k\\ln (k)) $"
   ]
  }
 ],
 "metadata": {
  "kernelspec": {
   "display_name": "Python 3",
   "language": "python",
   "name": "python3"
  },
  "language_info": {
   "codemirror_mode": {
    "name": "ipython",
    "version": 3
   },
   "file_extension": ".py",
   "mimetype": "text/x-python",
   "name": "python",
   "nbconvert_exporter": "python",
   "pygments_lexer": "ipython3",
   "version": "3.10.11"
  }
 },
 "nbformat": 4,
 "nbformat_minor": 2
}
