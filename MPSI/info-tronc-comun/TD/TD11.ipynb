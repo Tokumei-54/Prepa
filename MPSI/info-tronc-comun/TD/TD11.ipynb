{
 "cells": [
  {
   "cell_type": "markdown",
   "metadata": {},
   "source": [
    "### Exercice 1\n",
    "1. "
   ]
  },
  {
   "cell_type": "code",
   "execution_count": 5,
   "metadata": {},
   "outputs": [
    {
     "name": "stdout",
     "output_type": "stream",
     "text": [
      "3.0\n"
     ]
    }
   ],
   "source": [
    "from math import factorial\n",
    "\n",
    "def binom(k,n):\n",
    "    return factorial(n)/(factorial(k)*factorial(n-k))\n",
    "\n",
    "n = 3\n",
    "k = 2\n",
    "print(binom(k,n))"
   ]
  },
  {
   "cell_type": "markdown",
   "metadata": {},
   "source": [
    "2. Il y a $(n-1) + (k - 1) + (n - k - 1) + 2 \\ $  soit  $ \\ 2n-1 \\ $  multiplications dans la fonction <a>binom()</a>  \n",
    "\n",
    "3. "
   ]
  },
  {
   "cell_type": "code",
   "execution_count": 6,
   "metadata": {},
   "outputs": [
    {
     "name": "stdout",
     "output_type": "stream",
     "text": [
      "3.0\n"
     ]
    }
   ],
   "source": [
    "def binom_rec(k,n):\n",
    "    if k > n:\n",
    "        return 0\n",
    "    if k == 0 or k == n:\n",
    "        return 1\n",
    "    \n",
    "    return ((n-k+1)/k)*binom_rec(k-1,n)\n",
    "\n",
    "n = 3\n",
    "k = 2\n",
    "print(binom_rec(k,n))"
   ]
  },
  {
   "cell_type": "markdown",
   "metadata": {},
   "source": [
    "Il y a $(n-1) + (k - 1) + (n - k - 1) + 2 \\ $  soit  $ \\ 2n-1 \\ $  multiplications dans la fonction <a>binom_rec()</a>  "
   ]
  },
  {
   "cell_type": "markdown",
   "metadata": {},
   "source": [
    "### Exercice 2 (+4)"
   ]
  },
  {
   "cell_type": "code",
   "execution_count": 7,
   "metadata": {},
   "outputs": [
    {
     "name": "stdout",
     "output_type": "stream",
     "text": [
      "[46, 34, 36, 49, 43, 79, 67, 68, 61, 36, 75, 23, 26, 62, 71]\n",
      "[23, 26, 34, 36, 36, 43, 46, 49, 61, 62, 67, 68, 71, 75, 79]\n"
     ]
    }
   ],
   "source": [
    "from random import randint\n",
    "\n",
    "# def tri_bulle(T) :\n",
    "#     for i in range(len(T)-1,0,-1) :\n",
    "#         for j in range(i) :\n",
    "#             if T[j] > T[j+1] :\n",
    "#                 T[j], T[j+1] = T[j+1], T[j]\n",
    "\n",
    "def tri_bulle(T):\n",
    "    for i in range(len(T)-1,0,-1):\n",
    "        p=0\n",
    "        bulle = 0        \n",
    "        for j in range(i+1):\n",
    "            if T[j] > T[bulle] :\n",
    "                bulle = j\n",
    "                p+=1\n",
    "        if p == i :\n",
    "           break\n",
    "        T[bulle], T[i] = T[i],T[bulle]\n",
    "\n",
    "T = [randint(0,100) for _ in range(randint(2,20))]\n",
    "print(T)\n",
    "tri_bulle(T)\n",
    "print(T)\n"
   ]
  },
  {
   "cell_type": "markdown",
   "metadata": {},
   "source": []
  },
  {
   "cell_type": "markdown",
   "metadata": {},
   "source": [
    "### Exercice 3"
   ]
  },
  {
   "cell_type": "code",
   "execution_count": 8,
   "metadata": {},
   "outputs": [
    {
     "name": "stdout",
     "output_type": "stream",
     "text": [
      "[0, 8, 1, 10, 8, 9, 10, 10, 3, 6, 10, 3, 8]\n",
      "[1, 1, 0, 2, 0, 0, 1, 0, 3, 1, 4]\n"
     ]
    }
   ],
   "source": [
    "def comptage(T,m):\n",
    "    C = [0 for _ in range(m+1)]\n",
    "    for i in T:\n",
    "        C[i]+=1\n",
    "    return C\n",
    "\n",
    "def tri_comptage(T):\n",
    "    max = T[0]\n",
    "    for i in range(1,len(T)):\n",
    "        if T[i] > max :\n",
    "            max = T[i]\n",
    "    C = comptage(T,max)\n",
    "    T = []\n",
    "    for j in C:\n",
    "        T+= [j]*C[j]\n",
    "\n",
    "\n",
    "T = [randint(0,10) for _ in range(randint(2,20))]\n",
    "print(T)\n",
    "print(comptage(T,10))"
   ]
  }
 ],
 "metadata": {
  "kernelspec": {
   "display_name": "Python 3",
   "language": "python",
   "name": "python3"
  },
  "language_info": {
   "codemirror_mode": {
    "name": "ipython",
    "version": 3
   },
   "file_extension": ".py",
   "mimetype": "text/x-python",
   "name": "python",
   "nbconvert_exporter": "python",
   "pygments_lexer": "ipython3",
   "version": "3.10.11"
  }
 },
 "nbformat": 4,
 "nbformat_minor": 2
}
