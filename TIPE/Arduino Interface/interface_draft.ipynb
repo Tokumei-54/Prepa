{
 "cells": [
  {
   "cell_type": "code",
   "execution_count": 2,
   "metadata": {},
   "outputs": [
    {
     "ename": "NameError",
     "evalue": "name 'use' is not defined",
     "output_type": "error",
     "traceback": [
      "\u001b[0;31m---------------------------------------------------------------------------\u001b[0m",
      "\u001b[0;31mNameError\u001b[0m                                 Traceback (most recent call last)",
      "Cell \u001b[0;32mIn[2], line 19\u001b[0m\n\u001b[1;32m     16\u001b[0m         \u001b[38;5;28mprint\u001b[39m(use)\n\u001b[1;32m     18\u001b[0m serialInst\u001b[38;5;241m.\u001b[39mbaudrate \u001b[38;5;241m=\u001b[39m \u001b[38;5;241m9600\u001b[39m\n\u001b[0;32m---> 19\u001b[0m serialInst\u001b[38;5;241m.\u001b[39mport \u001b[38;5;241m=\u001b[39m \u001b[43muse\u001b[49m\n\u001b[1;32m     20\u001b[0m serialInst\u001b[38;5;241m.\u001b[39mopen()\n",
      "\u001b[0;31mNameError\u001b[0m: name 'use' is not defined"
     ]
    }
   ],
   "source": [
    "import serial.tools.list_ports\n",
    "\n",
    "ports = serial.tools.list_ports.comports()\n",
    "serialInst = serial.Serial()\n",
    "portsList = []\n",
    "\n",
    "for one in ports:\n",
    "    portsList.append(str(one))\n",
    "    print(str(one))\n",
    "\n",
    "com = input(\"Select Com Port for Arduino #: \")\n",
    "\n",
    "for i in range(len(portsList)):\n",
    "    if portsList[i].startswith(\"COM\" + str(com)):\n",
    "        use = \"COM\" + str(com)\n",
    "        print(use)\n",
    "\n",
    "serialInst.baudrate = 9600\n",
    "serialInst.port = use\n",
    "serialInst.open()"
   ]
  },
  {
   "cell_type": "code",
   "execution_count": null,
   "metadata": {},
   "outputs": [],
   "source": [
    "exit()"
   ]
  },
  {
   "cell_type": "markdown",
   "metadata": {},
   "source": [
    "Arduino side :\n",
    "- (optional adapt to flexible model caracteristics)\n",
    "- set weights and biases\n",
    "- forward propagartion :\n",
    "    - take and aply input\n",
    "    - return mesured output  \n",
    "\n"
   ]
  },
  {
   "cell_type": "markdown",
   "metadata": {},
   "source": [
    "Python side : \n",
    "- model specefic :\n",
    "    - process data into right format\n",
    "    - (optional visualisation)\n",
    "- general : \n",
    "    - declare model caracteristics\n",
    "    - comunicate with arduino\n",
    "    - use a training algorithm (gradient descent or other) using the data on the arduino "
   ]
  },
  {
   "cell_type": "markdown",
   "metadata": {},
   "source": [
    "Physical side :\n",
    "- input tensions\n",
    "- multiplier as weights \n",
    "- ALI for summing \n",
    "- (undefined) activation function ex threshold"
   ]
  }
 ],
 "metadata": {
  "kernelspec": {
   "display_name": "Python 3",
   "language": "python",
   "name": "python3"
  },
  "language_info": {
   "codemirror_mode": {
    "name": "ipython",
    "version": 3
   },
   "file_extension": ".py",
   "mimetype": "text/x-python",
   "name": "python",
   "nbconvert_exporter": "python",
   "pygments_lexer": "ipython3",
   "version": "3.12.7"
  }
 },
 "nbformat": 4,
 "nbformat_minor": 2
}
