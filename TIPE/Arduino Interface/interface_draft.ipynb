{
 "cells": [
  {
   "cell_type": "code",
   "execution_count": 7,
   "metadata": {},
   "outputs": [
    {
     "name": "stdout",
     "output_type": "stream",
     "text": [
      "0 - /dev/ttyACM0 - ttyACM0\n"
     ]
    }
   ],
   "source": [
    "\n",
    "import serial.tools.list_ports\n",
    "def serial_innit():\n",
    "    ports = serial.tools.list_ports.comports()\n",
    "    serialInst = serial.Serial()\n",
    "    portsList = []\n",
    "    for i,p in enumerate(ports):\n",
    "        portsList.append(str(p).split()[0])\n",
    "        print(f\"{i} - {p}\")\n",
    "    serialInst.baudrate = 9600\n",
    "    serialInst.port = portsList[int(input(\"Select port n° : \"))]\n",
    "    serialInst.open()\n",
    "    return serialInst\n",
    "ser = serial_innit()"
   ]
  },
  {
   "cell_type": "code",
   "execution_count": null,
   "metadata": {},
   "outputs": [],
   "source": [
    "exit()"
   ]
  },
  {
   "cell_type": "markdown",
   "metadata": {},
   "source": [
    "Arduino side :\n",
    "- (optional adapt to flexible model caracteristics)\n",
    "- set weights and biases\n",
    "- forward propagartion :\n",
    "    - take and aply input\n",
    "    - return mesured output  \n",
    "\n"
   ]
  },
  {
   "cell_type": "markdown",
   "metadata": {},
   "source": [
    "Python side : \n",
    "- model specefic :\n",
    "    - process data into right format\n",
    "    - (optional visualisation)\n",
    "- general : \n",
    "    - declare model caracteristics\n",
    "    - comunicate with arduino\n",
    "    - use a training algorithm (gradient descent or other) using the data on the arduino "
   ]
  },
  {
   "cell_type": "markdown",
   "metadata": {},
   "source": [
    "Physical side :\n",
    "- input tensions\n",
    "- multiplier as weights \n",
    "- ALI for summing \n",
    "- (undefined) activation function ex threshold"
   ]
  }
 ],
 "metadata": {
  "kernelspec": {
   "display_name": "Python 3",
   "language": "python",
   "name": "python3"
  },
  "language_info": {
   "codemirror_mode": {
    "name": "ipython",
    "version": 3
   },
   "file_extension": ".py",
   "mimetype": "text/x-python",
   "name": "python",
   "nbconvert_exporter": "python",
   "pygments_lexer": "ipython3",
   "version": "3.12.7"
  }
 },
 "nbformat": 4,
 "nbformat_minor": 2
}
