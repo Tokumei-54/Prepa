{
 "cells": [
  {
   "cell_type": "code",
   "execution_count": null,
   "metadata": {},
   "outputs": [],
   "source": [
    "import numpy as np\n",
    "from encephalon import NN, sigmoid, ReLU"
   ]
  },
  {
   "cell_type": "code",
   "execution_count": null,
   "metadata": {},
   "outputs": [],
   "source": [
    "def int_to_bin_list(i:int,n:int) -> list[int]:\n",
    "    return list(map(int,list(bin(i)[2:].zfill(n))))\n",
    "\n",
    "def n_bit_adder_data_generator(n: int):\n",
    "    D = [] \n",
    "    L = []\n",
    "    for i in range(2**n) :\n",
    "        for j in range(2**n) :\n",
    "            D.append(np.array(int_to_bin_list(i,n) + int_to_bin_list(j,n),ndmin=2))\n",
    "            L.append(np.array([i + j],ndmin=2))\n",
    "    return D, L"
   ]
  },
  {
   "cell_type": "code",
   "execution_count": 20,
   "metadata": {},
   "outputs": [
    {
     "name": "stdout",
     "output_type": "stream",
     "text": [
      "(64, 1, 1)\n"
     ]
    }
   ],
   "source": [
    "n = 3\n",
    "data , labels = n_bit_adder_data_generator(n)\n",
    "wierd_spe = (lambda x : 2**(n+1) * sigmoid[0](x) - 2, lambda x :  2**(n+1) * sigmoid[1](x))\n",
    "print(np.array(labels).shape)"
   ]
  },
  {
   "cell_type": "code",
   "execution_count": null,
   "metadata": {},
   "outputs": [],
   "source": [
    "n_bit_adder = NN([2*n,4*n,4*n,4*n,4*n,4*n,4*n,1],name=\"n_bit_adder\", f=ReLU, g=ReLU)"
   ]
  },
  {
   "cell_type": "code",
   "execution_count": null,
   "metadata": {},
   "outputs": [],
   "source": [
    "# n_bit_adder.save()"
   ]
  },
  {
   "cell_type": "code",
   "execution_count": null,
   "metadata": {},
   "outputs": [],
   "source": [
    "# n_bit_adder.load(\"/home/eleve/Dokuments/Prepa/TIPE/n_bit_adder_training/n_bit_adder_0.00447801192973567_2024-07-21T15:52:15.npz\")"
   ]
  },
  {
   "cell_type": "code",
   "execution_count": null,
   "metadata": {},
   "outputs": [],
   "source": [
    "n_bit_adder.train(data, labels, 100000,learning_rate=0.0001)"
   ]
  },
  {
   "cell_type": "code",
   "execution_count": null,
   "metadata": {},
   "outputs": [],
   "source": [
    "print(n_bit_adder.use([0,0,0,0,0,0]))\n",
    "print(n_bit_adder.use([0,0,0,0,0,1]))\n",
    "print(n_bit_adder.use([0,0,0,0,1,0]))\n",
    "print(n_bit_adder.use([0,0,0,0,1,1]))\n",
    "print(n_bit_adder.use([0,0,0,1,0,0]))\n",
    "print(n_bit_adder.use([0,0,0,1,0,1]))\n",
    "print(n_bit_adder.use([0,0,0,1,1,0]))\n",
    "print(n_bit_adder.use([0,0,0,1,1,1]))\n",
    "print(\"\\n\")\n",
    "\n",
    "print(n_bit_adder.use([0,0,1,0,0,0]))\n",
    "print(n_bit_adder.use([0,0,1,0,0,1]))\n",
    "print(n_bit_adder.use([0,0,1,0,1,0]))\n",
    "print(n_bit_adder.use([0,0,1,0,1,1]))\n",
    "print(n_bit_adder.use([0,0,1,1,0,0]))\n",
    "print(n_bit_adder.use([0,0,1,1,0,1]))\n",
    "print(n_bit_adder.use([0,0,1,1,1,0]))\n",
    "print(n_bit_adder.use([0,0,1,1,1,1]))\n",
    "print(\"\\n\")\n",
    "\n",
    "print(n_bit_adder.use([0,1,0,0,0,0]))\n",
    "print(n_bit_adder.use([0,1,0,0,0,1]))\n",
    "print(n_bit_adder.use([0,1,0,0,1,0]))\n",
    "print(n_bit_adder.use([0,1,0,0,1,1]))\n",
    "print(n_bit_adder.use([0,1,0,1,0,0]))\n",
    "print(n_bit_adder.use([0,1,0,1,0,1]))\n",
    "print(n_bit_adder.use([0,1,0,1,1,0]))\n",
    "print(n_bit_adder.use([0,1,0,1,1,1]))\n",
    "print(\"\\n\")\n",
    "\n",
    "print(n_bit_adder.use([0,1,1,0,0,0]))\n",
    "print(n_bit_adder.use([0,1,1,0,0,1]))\n",
    "print(n_bit_adder.use([0,1,1,0,1,0]))\n",
    "print(n_bit_adder.use([0,1,1,0,1,1]))\n",
    "print(n_bit_adder.use([0,1,1,1,0,0]))\n",
    "print(n_bit_adder.use([0,1,1,1,0,1]))\n",
    "print(n_bit_adder.use([0,1,1,1,1,0]))\n",
    "print(n_bit_adder.use([0,1,1,1,1,1]))\n",
    "print(\"\\n\")\n",
    "\n",
    "print(n_bit_adder.use([1,0,0,0,0,0]))\n",
    "print(n_bit_adder.use([1,0,0,0,0,1]))\n",
    "print(n_bit_adder.use([1,0,0,0,1,0]))\n",
    "print(n_bit_adder.use([1,0,0,0,1,1]))\n",
    "print(n_bit_adder.use([1,0,0,1,0,0]))\n",
    "print(n_bit_adder.use([1,0,0,1,0,1]))\n",
    "print(n_bit_adder.use([1,0,0,1,1,0]))\n",
    "print(n_bit_adder.use([1,0,0,1,1,1]))\n",
    "print(\"\\n\")\n",
    "\n",
    "print(n_bit_adder.use([1,0,1,0,0,0]))\n",
    "print(n_bit_adder.use([1,0,1,0,0,1]))\n",
    "print(n_bit_adder.use([1,0,1,0,1,0]))\n",
    "print(n_bit_adder.use([1,0,1,0,1,1]))\n",
    "print(n_bit_adder.use([1,0,1,1,0,0]))\n",
    "print(n_bit_adder.use([1,0,1,1,0,1]))\n",
    "print(n_bit_adder.use([1,0,1,1,1,0]))\n",
    "print(n_bit_adder.use([1,0,1,1,1,1]))\n",
    "print(\"\\n\")\n",
    "\n",
    "print(n_bit_adder.use([1,1,0,0,0,0]))\n",
    "print(n_bit_adder.use([1,1,0,0,0,1]))\n",
    "print(n_bit_adder.use([1,1,0,0,1,0]))\n",
    "print(n_bit_adder.use([1,1,0,0,1,1]))\n",
    "print(n_bit_adder.use([1,1,0,1,0,0]))\n",
    "print(n_bit_adder.use([1,1,0,1,0,1]))\n",
    "print(n_bit_adder.use([1,1,0,1,1,0]))\n",
    "print(n_bit_adder.use([1,1,0,1,1,1]))\n",
    "print(\"\\n\")\n",
    "\n",
    "print(n_bit_adder.use([1,1,1,0,0,0]))\n",
    "print(n_bit_adder.use([1,1,1,0,0,1]))\n",
    "print(n_bit_adder.use([1,1,1,0,1,0]))\n",
    "print(n_bit_adder.use([1,1,1,0,1,1]))\n",
    "print(n_bit_adder.use([1,1,1,1,0,0]))\n",
    "print(n_bit_adder.use([1,1,1,1,0,1]))\n",
    "print(n_bit_adder.use([1,1,1,1,1,0]))\n",
    "print(n_bit_adder.use([1,1,1,1,1,1]))\n",
    "print(\"\\n\")"
   ]
  }
 ],
 "metadata": {
  "kernelspec": {
   "display_name": "Python 3",
   "language": "python",
   "name": "python3"
  },
  "language_info": {
   "codemirror_mode": {
    "name": "ipython",
    "version": 3
   },
   "file_extension": ".py",
   "mimetype": "text/x-python",
   "name": "python",
   "nbconvert_exporter": "python",
   "pygments_lexer": "ipython3",
   "version": "3.10.12"
  }
 },
 "nbformat": 4,
 "nbformat_minor": 2
}
