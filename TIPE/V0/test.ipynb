{
 "cells": [
  {
   "cell_type": "code",
   "execution_count": 1,
   "metadata": {},
   "outputs": [],
   "source": [
    "from encephalon import *\n",
    "from axon import *\n",
    "from pons import *\n",
    "import numpy as np\n",
    "import json\n",
    "import matplotlib.pyplot as plt\n",
    "from mpl_toolkits.mplot3d import Axes3D"
   ]
  },
  {
   "cell_type": "code",
   "execution_count": 2,
   "metadata": {},
   "outputs": [],
   "source": [
    "# ser = serial_innit()"
   ]
  },
  {
   "cell_type": "code",
   "execution_count": 3,
   "metadata": {},
   "outputs": [],
   "source": [
    "ser , port = test_serial()\n",
    "run_sim(ANN([2,1,1]),port)"
   ]
  },
  {
   "cell_type": "code",
   "execution_count": 4,
   "metadata": {},
   "outputs": [],
   "source": [
    "model = NN([2,1,1],ser)"
   ]
  },
  {
   "cell_type": "code",
   "execution_count": 5,
   "metadata": {},
   "outputs": [
    {
     "name": "stdout",
     "output_type": "stream",
     "text": [
      "{1: array([[-0.71714404],\n",
      "       [ 0.27498739]]), 2: array([[2.12345872]])}\n",
      "{1: array([[0.]]), 2: array([[0.]])}\n"
     ]
    }
   ],
   "source": [
    "print(model.W)\n",
    "print(model.b)"
   ]
  },
  {
   "cell_type": "code",
   "execution_count": 6,
   "metadata": {},
   "outputs": [],
   "source": [
    "model.W = {1: np.array([[ 1.0],[1.1]]), 2: np.array([[2]])}\n",
    "model.b = {1: np.array([[0.]]), 2: np.array([[0.]])}"
   ]
  },
  {
   "cell_type": "code",
   "execution_count": 7,
   "metadata": {},
   "outputs": [],
   "source": [
    "NN.set_weights_and_biases(model)"
   ]
  },
  {
   "cell_type": "code",
   "execution_count": 8,
   "metadata": {},
   "outputs": [
    {
     "name": "stdout",
     "output_type": "stream",
     "text": [
      "\n",
      "\n",
      "\n",
      "\n",
      "\n",
      "\n"
     ]
    }
   ],
   "source": [
    "for _ in range(6):\n",
    "    print(serial_read(ser,0.5))"
   ]
  },
  {
   "cell_type": "code",
   "execution_count": 9,
   "metadata": {},
   "outputs": [],
   "source": [
    "# serial_monitor(ser)"
   ]
  },
  {
   "cell_type": "code",
   "execution_count": 10,
   "metadata": {},
   "outputs": [],
   "source": [
    "# print(serial_write_and_await(ser, \"SET I0 2.5\"))"
   ]
  },
  {
   "cell_type": "code",
   "execution_count": 11,
   "metadata": {},
   "outputs": [],
   "source": [
    "# print(serial_write_and_await(ser, \"READ O0\"))"
   ]
  },
  {
   "cell_type": "code",
   "execution_count": 12,
   "metadata": {},
   "outputs": [
    {
     "name": "stdout",
     "output_type": "stream",
     "text": [
      "No response received within 5 seconds\n"
     ]
    },
    {
     "ename": "TypeError",
     "evalue": "'NoneType' object is not subscriptable",
     "output_type": "error",
     "traceback": [
      "\u001b[0;31m---------------------------------------------------------------------------\u001b[0m",
      "\u001b[0;31mTypeError\u001b[0m                                 Traceback (most recent call last)",
      "Cell \u001b[0;32mIn[12], line 7\u001b[0m\n\u001b[1;32m      5\u001b[0m     \u001b[38;5;28;01mfor\u001b[39;00m y \u001b[38;5;129;01min\u001b[39;00m np\u001b[38;5;241m.\u001b[39mlinspace(\u001b[38;5;241m0\u001b[39m, \u001b[38;5;241m5\u001b[39m, sub):\n\u001b[1;32m      6\u001b[0m         z \u001b[38;5;241m=\u001b[39m model\u001b[38;5;241m.\u001b[39muse([x,y],\u001b[38;5;241m5\u001b[39m)\n\u001b[0;32m----> 7\u001b[0m         points\u001b[38;5;241m.\u001b[39mappend([x, y,\u001b[43mz\u001b[49m\u001b[43m[\u001b[49m\u001b[38;5;241;43m0\u001b[39;49m\u001b[43m]\u001b[49m])\n\u001b[1;32m      9\u001b[0m \u001b[38;5;66;03m# for x in np.linspace(0, 5, sub):\u001b[39;00m\n\u001b[1;32m     10\u001b[0m \u001b[38;5;66;03m#         z = model.use([x,0],5)\u001b[39;00m\n\u001b[1;32m     11\u001b[0m \u001b[38;5;66;03m#         points.append([x,0,z[0]])\u001b[39;00m\n\u001b[1;32m     13\u001b[0m \u001b[38;5;28mprint\u001b[39m(points)\n",
      "\u001b[0;31mTypeError\u001b[0m: 'NoneType' object is not subscriptable"
     ]
    }
   ],
   "source": [
    "points = []\n",
    "sub = 6\n",
    "\n",
    "for x in np.linspace(0, 5, sub):\n",
    "    for y in np.linspace(0, 5, sub):\n",
    "        z = model.use([x,y],5)\n",
    "        points.append([x, y,z[0]])\n",
    "\n",
    "# for x in np.linspace(0, 5, sub):\n",
    "#         z = model.use([x,0],5)\n",
    "#         points.append([x,0,z[0]])\n",
    "\n",
    "print(points)\n",
    "points = np.array(points)\n",
    "\n",
    "fig = plt.figure()\n",
    "ax = fig.add_subplot(111, projection=\"3d\")\n",
    "ax.scatter(points[:, 0], points[:, 1], points[:, 2], c=points[:, 2], cmap=\"winter\")\n",
    "plt.show()"
   ]
  }
 ],
 "metadata": {
  "kernelspec": {
   "display_name": "Python 3",
   "language": "python",
   "name": "python3"
  },
  "language_info": {
   "codemirror_mode": {
    "name": "ipython",
    "version": 3
   },
   "file_extension": ".py",
   "mimetype": "text/x-python",
   "name": "python",
   "nbconvert_exporter": "python",
   "pygments_lexer": "ipython3",
   "version": "3.12.9"
  }
 },
 "nbformat": 4,
 "nbformat_minor": 2
}
