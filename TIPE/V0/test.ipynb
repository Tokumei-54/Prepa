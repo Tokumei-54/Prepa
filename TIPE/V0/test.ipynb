{
 "cells": [
  {
   "cell_type": "code",
   "execution_count": 12,
   "metadata": {},
   "outputs": [],
   "source": [
    "from encephalon import *\n",
    "from axon import *\n",
    "import numpy as np\n",
    "import json\n",
    "import matplotlib.pyplot as plt\n",
    "from mpl_toolkits.mplot3d import Axes3D"
   ]
  },
  {
   "cell_type": "code",
   "execution_count": 13,
   "metadata": {},
   "outputs": [
    {
     "name": "stdout",
     "output_type": "stream",
     "text": [
      "0 - /dev/ttyACM0 - ttyACM0\n"
     ]
    }
   ],
   "source": [
    "ser = serial_innit()"
   ]
  },
  {
   "cell_type": "code",
   "execution_count": 14,
   "metadata": {},
   "outputs": [],
   "source": [
    "model = NN([2,1,1],ser)"
   ]
  },
  {
   "cell_type": "code",
   "execution_count": 15,
   "metadata": {},
   "outputs": [
    {
     "name": "stdout",
     "output_type": "stream",
     "text": [
      "{1: array([[-0.4261228 ],\n",
      "       [-2.20028314]]), 2: array([[-1.28760397]])}\n",
      "{1: array([[0.]]), 2: array([[0.]])}\n"
     ]
    }
   ],
   "source": [
    "print(model.W)\n",
    "print(model.b)"
   ]
  },
  {
   "cell_type": "code",
   "execution_count": 16,
   "metadata": {},
   "outputs": [],
   "source": [
    "model.W = {1: np.array([[ 1.0],[1.1]]), 2: np.array([[2]])}\n",
    "model.b = {1: np.array([[0.]]), 2: np.array([[0.]])}"
   ]
  },
  {
   "cell_type": "code",
   "execution_count": 17,
   "metadata": {},
   "outputs": [],
   "source": [
    "NN.set_weights_and_biases(model)"
   ]
  },
  {
   "cell_type": "code",
   "execution_count": 50,
   "metadata": {},
   "outputs": [],
   "source": [
    "for _ in range(6):\n",
    "    serial_read(ser)"
   ]
  },
  {
   "cell_type": "code",
   "execution_count": 19,
   "metadata": {},
   "outputs": [],
   "source": [
    "# serial_monitor(ser)"
   ]
  },
  {
   "cell_type": "code",
   "execution_count": 35,
   "metadata": {},
   "outputs": [
    {
     "name": "stdout",
     "output_type": "stream",
     "text": [
      "[[0.0, 0.0, 'timeout'], [0.0, 1.0, 'timeout'], [0.0, 2.0, 'timeout'], [0.0, 3.0, 'timeout'], [0.0, 4.0, 'timeout'], [0.0, 5.0, 'timeout'], [1.0, 0.0, 'timeout'], [1.0, 1.0, 'timeout'], [1.0, 2.0, 'timeout'], [1.0, 3.0, 'timeout'], [1.0, 4.0, 'timeout'], [1.0, 5.0, 'timeout'], [2.0, 0.0, 'timeout'], [2.0, 1.0, 'timeout'], [2.0, 2.0, 'timeout'], [2.0, 3.0, 'timeout'], [2.0, 4.0, 'timeout'], [2.0, 5.0, 'timeout'], [3.0, 0.0, 'timeout'], [3.0, 1.0, 'timeout'], [3.0, 2.0, 'timeout'], [3.0, 3.0, 'timeout'], [3.0, 4.0, 'timeout'], [3.0, 5.0, 'timeout'], [4.0, 0.0, 'timeout'], [4.0, 1.0, 'timeout'], [4.0, 2.0, 'timeout'], [4.0, 3.0, 'timeout'], [4.0, 4.0, 'timeout'], [4.0, 5.0, 'timeout'], [5.0, 0.0, 'timeout'], [5.0, 1.0, 'timeout'], [5.0, 2.0, 'timeout'], [5.0, 3.0, 'timeout'], [5.0, 4.0, 'timeout'], [5.0, 5.0, 'timeout']]\n"
     ]
    }
   ],
   "source": [
    "\n",
    "points = []\n",
    "for x in np.linspace(0, 5, 6):\n",
    "    for y in np.linspace(0, 5, 6):\n",
    "        z = model.use([x,y],0.1)\n",
    "        points.append([x, y, z])\n",
    "print(points)\n",
    "points = np.array(points)\n",
    "\n",
    "# fig = plt.figure()\n",
    "# ax = fig.add_subplot(111, projection=\"3d\")\n",
    "# ax.scatter(points[:, 0], points[:, 1], points[:, 2], c=points[:, 2], cmap=\"winter\")\n",
    "# plt.show()"
   ]
  }
 ],
 "metadata": {
  "kernelspec": {
   "display_name": "Python 3",
   "language": "python",
   "name": "python3"
  },
  "language_info": {
   "codemirror_mode": {
    "name": "ipython",
    "version": 3
   },
   "file_extension": ".py",
   "mimetype": "text/x-python",
   "name": "python",
   "nbconvert_exporter": "python",
   "pygments_lexer": "ipython3",
   "version": "3.12.7"
  }
 },
 "nbformat": 4,
 "nbformat_minor": 2
}
